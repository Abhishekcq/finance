{
  "nbformat": 4,
  "nbformat_minor": 0,
  "metadata": {
    "colab": {
      "name": "beta calculation  23/08/2021",
      "provenance": []
    },
    "kernelspec": {
      "name": "python3",
      "display_name": "Python 3"
    },
    "language_info": {
      "name": "python"
    }
  },
  "cells": [
    {
      "cell_type": "code",
      "source": [
        "from datetime import date\n",
        "import pandas as pd\n",
        "import numpy as np"
      ],
      "metadata": {
        "id": "EYFkF5wW5-Ih"
      },
      "execution_count": 24,
      "outputs": []
    },
    {
      "cell_type": "code",
      "source": [
        "pip install jugaad-data"
      ],
      "metadata": {
        "colab": {
          "base_uri": "https://localhost:8080/"
        },
        "id": "vmP5U_6T6L1E",
        "outputId": "7dd4af91-ee07-4ac5-dc94-059df04cac6d"
      },
      "execution_count": 4,
      "outputs": [
        {
          "output_type": "stream",
          "name": "stdout",
          "text": [
            "Collecting jugaad-data\n",
            "  Downloading jugaad_data-0.24-py3-none-any.whl (26 kB)\n",
            "Collecting beautifulsoup4==4.9.3\n",
            "  Downloading beautifulsoup4-4.9.3-py3-none-any.whl (115 kB)\n",
            "\u001b[K     |████████████████████████████████| 115 kB 11.4 MB/s \n",
            "\u001b[?25hRequirement already satisfied: appdirs==1.4.4 in /usr/local/lib/python3.7/dist-packages (from jugaad-data) (1.4.4)\n",
            "Requirement already satisfied: requests in /usr/local/lib/python3.7/dist-packages (from jugaad-data) (2.23.0)\n",
            "Requirement already satisfied: click==7.1.2 in /usr/local/lib/python3.7/dist-packages (from jugaad-data) (7.1.2)\n",
            "Collecting soupsieve>1.2\n",
            "  Downloading soupsieve-2.3.1-py3-none-any.whl (37 kB)\n",
            "Requirement already satisfied: certifi>=2017.4.17 in /usr/local/lib/python3.7/dist-packages (from requests->jugaad-data) (2021.10.8)\n",
            "Requirement already satisfied: idna<3,>=2.5 in /usr/local/lib/python3.7/dist-packages (from requests->jugaad-data) (2.10)\n",
            "Requirement already satisfied: urllib3!=1.25.0,!=1.25.1,<1.26,>=1.21.1 in /usr/local/lib/python3.7/dist-packages (from requests->jugaad-data) (1.24.3)\n",
            "Requirement already satisfied: chardet<4,>=3.0.2 in /usr/local/lib/python3.7/dist-packages (from requests->jugaad-data) (3.0.4)\n",
            "Installing collected packages: soupsieve, beautifulsoup4, jugaad-data\n",
            "  Attempting uninstall: beautifulsoup4\n",
            "    Found existing installation: beautifulsoup4 4.6.3\n",
            "    Uninstalling beautifulsoup4-4.6.3:\n",
            "      Successfully uninstalled beautifulsoup4-4.6.3\n",
            "Successfully installed beautifulsoup4-4.9.3 jugaad-data-0.24 soupsieve-2.3.1\n"
          ]
        }
      ]
    },
    {
      "cell_type": "code",
      "source": [
        "from jugaad_data.nse import index_df, stock_df"
      ],
      "metadata": {
        "id": "-t1jK2_g6pCt"
      },
      "execution_count": 5,
      "outputs": []
    },
    {
      "cell_type": "code",
      "source": [
        "idx = index_df(\"NIFTY 50\", date(2021,1,1), date(2021,6,1) )\n",
        "stk = stock_df(\"ITC\", date(2021,1,1), date(2021,6,1) )\n"
      ],
      "metadata": {
        "id": "WH1fxBT-7HYn"
      },
      "execution_count": 17,
      "outputs": []
    },
    {
      "cell_type": "code",
      "source": [
        "print(idx.head())\n",
        "print(stk.head())"
      ],
      "metadata": {
        "colab": {
          "base_uri": "https://localhost:8080/"
        },
        "id": "h5AFWYOk7Ni9",
        "outputId": "e6299594-ec51-48fe-d283-27621ea6c463"
      },
      "execution_count": 18,
      "outputs": [
        {
          "output_type": "stream",
          "name": "stdout",
          "text": [
            "  Index Name INDEX_NAME HistoricalDate      OPEN      HIGH       LOW     CLOSE\n",
            "0   Nifty 50   NIFTY 50     2021-06-01  15629.65  15660.75  15528.30  15574.85\n",
            "1   Nifty 50   NIFTY 50     2021-05-31  15437.75  15606.35  15374.00  15582.80\n",
            "2   Nifty 50   NIFTY 50     2021-05-28  15421.20  15469.65  15394.75  15435.65\n",
            "3   Nifty 50   NIFTY 50     2021-05-27  15323.95  15384.55  15272.50  15337.85\n",
            "4   Nifty 50   NIFTY 50     2021-05-26  15257.05  15319.90  15194.95  15301.45\n",
            "        DATE SERIES   OPEN    HIGH     LOW  PREV. CLOSE    LTP   CLOSE  \\\n",
            "0 2021-06-01     EQ  218.0  219.40  214.25       216.60  215.9  215.25   \n",
            "1 2021-05-31     EQ  215.0  217.90  214.40       212.90  217.0  216.60   \n",
            "2 2021-05-28     EQ  212.5  213.50  211.55       211.15  212.9  212.90   \n",
            "3 2021-05-27     EQ  211.0  214.15  210.30       210.60  211.2  211.15   \n",
            "4 2021-05-26     EQ  211.8  212.45  210.30       210.90  210.9  210.60   \n",
            "\n",
            "     VWAP  52W H   52W L    VOLUME         VALUE  NO OF TRADES SYMBOL  \n",
            "0  216.54  239.2  163.35  38755111  8.392215e+09        196487    ITC  \n",
            "1  216.76  239.2  163.35  73039531  1.583176e+10        297258    ITC  \n",
            "2  212.72  239.2  163.35  25597550  5.445191e+09        114742    ITC  \n",
            "3  211.94  239.2  163.35  47554219  1.007878e+10        172315    ITC  \n",
            "4  211.33  239.2  163.35  17576137  3.714359e+09         88996    ITC  \n"
          ]
        }
      ]
    },
    {
      "cell_type": "code",
      "source": [
        "idx['DATE'] = idx['HistoricalDate']"
      ],
      "metadata": {
        "id": "LkrOrksq7VoU"
      },
      "execution_count": 19,
      "outputs": []
    },
    {
      "cell_type": "code",
      "source": [
        "df = idx[[\"DATE\", 'CLOSE']]\n",
        "df.columns = ['DATE', \"NIFTY\"]"
      ],
      "metadata": {
        "id": "tLgO1svr8GFb"
      },
      "execution_count": 20,
      "outputs": []
    },
    {
      "cell_type": "code",
      "source": [
        "df = pd.merge(df, stk[['DATE', 'CLOSE']], how='inner', on='DATE')\n",
        "df.columns = ['DATE', 'NIFTY', 'STK']"
      ],
      "metadata": {
        "id": "XwGHPcG48Naq"
      },
      "execution_count": 21,
      "outputs": []
    },
    {
      "cell_type": "markdown",
      "source": [
        "return of both index and infosis share\n"
      ],
      "metadata": {
        "id": "ufxlzWD_8gTS"
      }
    },
    {
      "cell_type": "code",
      "source": [
        "df['STK_PREV'] = df['STK'].shift(1)\n",
        "df['NIFTY_PREV'] = df['NIFTY'].shift(1)\n",
        "df['NIFTY_CHG'] = (df['NIFTY']-df['NIFTY_PREV'])/df['NIFTY_PREV']\n",
        "df['STK_CHG'] = (df['STK']-df['STK_PREV'])/df['STK_PREV']\n",
        "df.dropna(inplace=True)\n",
        "print(df.head())"
      ],
      "metadata": {
        "colab": {
          "base_uri": "https://localhost:8080/"
        },
        "id": "3KHpf-fD8nPH",
        "outputId": "7216d93c-dca3-4104-d82a-2867a1b854ec"
      },
      "execution_count": 22,
      "outputs": [
        {
          "output_type": "stream",
          "name": "stdout",
          "text": [
            "        DATE     NIFTY     STK  STK_PREV  NIFTY_PREV  NIFTY_CHG   STK_CHG\n",
            "1 2021-05-31  15582.80  216.60    215.25    15574.85   0.000510  0.006272\n",
            "2 2021-05-28  15435.65  212.90    216.60    15582.80  -0.009443 -0.017082\n",
            "3 2021-05-27  15337.85  211.15    212.90    15435.65  -0.006336 -0.008220\n",
            "4 2021-05-26  15301.45  210.60    211.15    15337.85  -0.002373 -0.002605\n",
            "5 2021-05-25  15208.45  210.90    210.60    15301.45  -0.006078  0.001425\n"
          ]
        }
      ]
    },
    {
      "cell_type": "markdown",
      "source": [
        "Calculate Covariance, Variance and ultimately the Beta"
      ],
      "metadata": {
        "id": "IVU7fesB9oJR"
      }
    },
    {
      "cell_type": "code",
      "source": [
        "cov = np.cov(df['STK_CHG'], df['NIFTY_CHG'])\n",
        "var = np.var(df['NIFTY_CHG'])"
      ],
      "metadata": {
        "id": "L2czQIsd9vtw"
      },
      "execution_count": 25,
      "outputs": []
    },
    {
      "cell_type": "code",
      "source": [
        "print(cov)"
      ],
      "metadata": {
        "colab": {
          "base_uri": "https://localhost:8080/"
        },
        "id": "T6mRkfqs98Wg",
        "outputId": "f6155995-a5ba-48a5-d6dd-10604ac6558f"
      },
      "execution_count": 26,
      "outputs": [
        {
          "output_type": "stream",
          "name": "stdout",
          "text": [
            "[[0.00028678 0.00010399]\n",
            " [0.00010399 0.00015778]]\n"
          ]
        }
      ]
    },
    {
      "cell_type": "code",
      "source": [
        "print(cov[1,0]/var)"
      ],
      "metadata": {
        "colab": {
          "base_uri": "https://localhost:8080/"
        },
        "id": "t_5c3x5K9--R",
        "outputId": "26e67b97-c8eb-416b-a974-41176cf34b2a"
      },
      "execution_count": 27,
      "outputs": [
        {
          "output_type": "stream",
          "name": "stdout",
          "text": [
            "0.665811572429943\n"
          ]
        }
      ]
    },
    {
      "cell_type": "code",
      "source": [
        ""
      ],
      "metadata": {
        "id": "4Ct37ER9-Drj"
      },
      "execution_count": null,
      "outputs": []
    }
  ]
}