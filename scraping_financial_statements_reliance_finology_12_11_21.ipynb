{
  "nbformat": 4,
  "nbformat_minor": 0,
  "metadata": {
    "colab": {
      "name": "scraping financial statements reliance finology 12/11/21",
      "provenance": []
    },
    "kernelspec": {
      "name": "python3",
      "display_name": "Python 3"
    },
    "language_info": {
      "name": "python"
    }
  },
  "cells": [
    {
      "cell_type": "code",
      "execution_count": 1,
      "metadata": {
        "id": "14L4FnbTHZmW"
      },
      "outputs": [],
      "source": [
        "import pandas as pd"
      ]
    },
    {
      "cell_type": "code",
      "source": [
        "url=\"https://ticker.finology.in/company/RELIANCE\"\n",
        "\n"
      ],
      "metadata": {
        "id": "j8QCreyJHfoH"
      },
      "execution_count": 7,
      "outputs": []
    },
    {
      "cell_type": "code",
      "source": [
        "df_list=pd.read_html(url)"
      ],
      "metadata": {
        "id": "tErxfTvzHwpI"
      },
      "execution_count": 8,
      "outputs": []
    },
    {
      "cell_type": "code",
      "source": [
        "print(df_list[0])"
      ],
      "metadata": {
        "colab": {
          "base_uri": "https://localhost:8080/"
        },
        "id": "YboExrgcICQF",
        "outputId": "51824d3a-3f5c-4016-9327-e1698f6b6c2a"
      },
      "execution_count": 10,
      "outputs": [
        {
          "output_type": "stream",
          "name": "stdout",
          "text": [
            "       Date  Promoter %  Pledge %\n",
            "0  Dec 2021       50.62         0\n",
            "1  Sep 2021       50.61         0\n",
            "2  Jun 2021       50.59         0\n",
            "3  Mar 2021       50.58         0\n",
            "4  Dec 2020       50.54         0\n"
          ]
        }
      ]
    },
    {
      "cell_type": "markdown",
      "source": [
        ""
      ],
      "metadata": {
        "id": "JkoL5LD1K-P6"
      }
    },
    {
      "cell_type": "code",
      "source": [
        "print(df_list[1])"
      ],
      "metadata": {
        "colab": {
          "base_uri": "https://localhost:8080/"
        },
        "id": "NAdkhE8WIGEq",
        "outputId": "3a981faf-20b5-46e7-855e-0344b5ef1625"
      },
      "execution_count": 11,
      "outputs": [
        {
          "output_type": "stream",
          "name": "stdout",
          "text": [
            "          PARTICULARS  Dec 2020  Mar 2021  Jun 2021   Sep 2021   Dec 2021\n",
            "0           Net Sales  67400.00  85977.00  90570.00  103418.00  117396.00\n",
            "1   Total Expenditure  58710.00  75784.00  79110.00   91041.00  103501.00\n",
            "2    Operating Profit   8690.00  10193.00  11460.00   12377.00   13895.00\n",
            "3        Other Income   3616.00   2797.00   3588.00    3769.00    3443.00\n",
            "4            Interest   3140.00   3001.00   2351.00    2487.00    2301.00\n",
            "5        Depreciation   2209.00   2582.00   2509.00    2705.00    2597.00\n",
            "6   Exceptional Items   -116.00      0.00      0.00       0.00       0.00\n",
            "7   Profit Before Tax   6841.00   7407.00  10188.00   10954.00   12440.00\n",
            "8                 Tax  -1787.00   -210.00   1593.00    1726.00    2273.00\n",
            "9    Profit After Tax   8628.00   7617.00   8595.00    9228.00   10167.00\n",
            "10  Adjusted EPS (Rs)     13.39     11.82     13.12      14.09      15.03\n"
          ]
        }
      ]
    },
    {
      "cell_type": "code",
      "source": [
        "print(df_list[2])"
      ],
      "metadata": {
        "colab": {
          "base_uri": "https://localhost:8080/"
        },
        "id": "5Ea2IubdJjei",
        "outputId": "dab05e46-b738-4d95-fe57-dcd9a5cfbda0"
      },
      "execution_count": 12,
      "outputs": [
        {
          "output_type": "stream",
          "name": "stdout",
          "text": [
            "           PARTICULARS   Mar 2017   Mar 2018   Mar 2019   Mar 2020   Mar 2021\n",
            "0            Net Sales  242025.00  290042.00  371616.00  336953.00  245667.00\n",
            "1    Total Expenditure  198769.00  238338.00  312762.00  284295.00  213375.00\n",
            "2     Operating Profit   43256.00   51704.00   58854.00   52658.00   32292.00\n",
            "3         Other Income    8709.00    8257.00    8822.00   13736.00   16026.00\n",
            "4             Interest    2723.00    4656.00    9751.00   12105.00   16211.00\n",
            "5         Depreciation    8465.00    9580.00   10558.00    9728.00    9199.00\n",
            "6    Exceptional Items       0.00       0.00       0.00   -4245.00    4304.00\n",
            "7    Profit Before Tax   40777.00   45725.00   47367.00   40316.00   27212.00\n",
            "8                  Tax    9352.00   12113.00   12204.00    9413.00   -4732.00\n",
            "9           Net Profit   31425.00   33612.00   35163.00   30903.00   31944.00\n",
            "10  Adjusted EPS (Rs.)      47.88      52.56      54.95      48.29      49.56\n"
          ]
        }
      ]
    },
    {
      "cell_type": "code",
      "source": [
        "print(df_list[3])"
      ],
      "metadata": {
        "colab": {
          "base_uri": "https://localhost:8080/"
        },
        "id": "7FYfGgPuJsUk",
        "outputId": "875f840e-f674-40f7-8d02-2df8a19ff960"
      },
      "execution_count": 15,
      "outputs": [
        {
          "output_type": "stream",
          "name": "stdout",
          "text": [
            "               Particulars  Mar 2017  Mar 2018  Mar 2019  Mar 2020  Mar 2021\n",
            "0   Equity and Liabilities       NaN       NaN       NaN       NaN       NaN\n",
            "1            Share Capital    3251.0    6335.0    6339.0    6339.0    6445.0\n",
            "2           Total Reserves  285062.0  308312.0  398983.0  384876.0  468038.0\n",
            "3               Borrowings   78723.0   81596.0  118098.0  194402.0  160598.0\n",
            "4    Other N/C liabilities   35217.0   39588.0   59744.0   62600.0   38313.0\n",
            "5      Current liabilities  152826.0  190647.0  202021.0  330682.0  201787.0\n",
            "6        Total Liabilities  555079.0  626478.0  785185.0  978899.0  875181.0\n",
            "7                   Assets       NaN       NaN       NaN       NaN       NaN\n",
            "8                Net Block  154578.0  200964.0  203188.0  306478.0  306833.0\n",
            "9              Capital WIP  128283.0   92581.0  105155.0   15638.0   20765.0\n",
            "10          Intangible WIP    4458.0    6902.0    6402.0   12327.0   12070.0\n",
            "11             Investments  140544.0  171945.0  272043.0  421793.0  252620.0\n",
            "12        Loans & Advances   20914.0   28907.0   44335.0   55978.0   72129.0\n",
            "13        Other N/C Assets      21.0    1267.0    1198.0      31.0      45.0\n",
            "14          Current Assets  106281.0  123912.0  152864.0  166654.0  210719.0\n",
            "15            Total Assets  555079.0  626478.0  785185.0  978899.0  875181.0\n"
          ]
        }
      ]
    },
    {
      "cell_type": "code",
      "source": [
        "print(df_list[4])"
      ],
      "metadata": {
        "colab": {
          "base_uri": "https://localhost:8080/"
        },
        "id": "Gy5iykEIKIXq",
        "outputId": "98c8f17e-4374-4f59-d5c9-469d4026da8e"
      },
      "execution_count": 16,
      "outputs": [
        {
          "output_type": "stream",
          "name": "stdout",
          "text": [
            "                       PARTICULARS  Mar 2017  Mar 2018  Mar 2019  Mar 2020  \\\n",
            "0           Profit from operations     40777     45725     47367     40316   \n",
            "1                       Adjustment       700      4358     10536      8940   \n",
            "2  Changes in Assets & Liabilities     19533     20532    -19286     33531   \n",
            "3                         Tax Paid     -9560     -8615     -9426     -5254   \n",
            "4              Operating Cash Flow     51450     62000     29191     77533   \n",
            "5              Investing Cash Flow    -54949    -59109    -53949   -143583   \n",
            "6              Financing Cash Flow     -1639     -1914     25795     70767   \n",
            "7                    Net Cash Flow     -5138       977      1037      4717   \n",
            "\n",
            "   Mar 2021  Unnamed: 6  Unnamed: 7  Unnamed: 8  \n",
            "0     27212         NaN         NaN         NaN  \n",
            "1      5974         NaN         NaN         NaN  \n",
            "2    -32008         NaN         NaN         NaN  \n",
            "3     -1690         NaN         NaN         NaN  \n",
            "4      -512         NaN         NaN         NaN  \n",
            "5     74257         NaN         NaN         NaN  \n",
            "6    -76657         NaN         NaN         NaN  \n",
            "7     -2912         NaN         NaN         NaN  \n"
          ]
        }
      ]
    },
    {
      "cell_type": "code",
      "source": [
        "print(df_list[5])"
      ],
      "metadata": {
        "colab": {
          "base_uri": "https://localhost:8080/"
        },
        "id": "2XvATtNAKg6D",
        "outputId": "7f936284-b099-4b79-9f33-fcbc9b4baacc"
      },
      "execution_count": 17,
      "outputs": [
        {
          "output_type": "stream",
          "name": "stdout",
          "text": [
            "              PARTICULARS Dec 2020% Mar 2021% Jun 2021% Sep 2021% Dec 2021%\n",
            "0               Promoters     50.54     50.58     50.59     50.61     50.62\n",
            "1   devarshi commercia...      8.31      8.30      8.29      8.27      8.21\n",
            "2   srichakra commerci...     11.26     11.25     11.24     11.21     11.13\n",
            "3   tattvam enterprise...      8.31      8.30      8.29      8.27      8.21\n",
            "4   karuna commercials...      8.31      8.30      8.29      8.27      8.21\n",
            "5   reliance industrie...      4.63      4.62      4.62      4.61      4.16\n",
            "6   petroleum trust (t...         -         -         -         -      3.89\n",
            "7   petroleum trust th...      3.67      3.66      3.66      3.65         -\n",
            "8   reliance services ...         -         -         -         -      2.78\n",
            "9   reliance services ...      2.62      2.61      2.61      2.61         -\n",
            "10  samarjit enterpris...      1.90      1.90      1.89      1.89      1.88\n",
            "11             k d ambani      0.24      0.24      0.24      0.24      0.24\n",
            "12  shreeji comtrade l...      0.22      0.22      0.22      0.22      0.22\n",
            "13  shrikrishna tradec...      0.22      0.22      0.22      0.22      0.22\n",
            "14  svar enterprises l...      0.21      0.21      0.21      0.21      0.21\n",
            "15         akash m ambani      0.12      0.12      0.12      0.12      0.12\n",
            "16         anant m ambani      0.12      0.12      0.12      0.12      0.12\n",
            "17          isha m ambani      0.12      0.12      0.12      0.12      0.12\n",
            "18        mukesh d ambani      0.12      0.12      0.12      0.12      0.12\n",
            "19          nita m ambani      0.12      0.12      0.12      0.12      0.12\n",
            "20  reliance welfare a...      0.08      0.08      0.08      0.08      0.08\n",
            "21  vasuprada enterpri...      0.02      0.02      0.02      0.02      0.02\n",
            "22  reliance industria...      0.01      0.01      0.01      0.01      0.01\n"
          ]
        }
      ]
    },
    {
      "cell_type": "code",
      "source": [
        "print(df_list[6])"
      ],
      "metadata": {
        "colab": {
          "base_uri": "https://localhost:8080/"
        },
        "id": "R6F57SBHKtp-",
        "outputId": "08202636-0828-46f4-fc94-0cfd1017d4a8"
      },
      "execution_count": 18,
      "outputs": [
        {
          "output_type": "stream",
          "name": "stdout",
          "text": [
            "             PARTICULARS  Dec 2020%  Mar 2021%  Jun 2021%  Sep 2021%  \\\n",
            "0              Investors      49.46      49.42      49.41      49.39   \n",
            "1  life insurance cor...       5.82       5.60       5.70       5.94   \n",
            "2  europacific growth...       2.50       2.90       3.10       3.12   \n",
            "3  qualified institut...       2.22       2.11       2.02       1.89   \n",
            "4       sbi mutual funds       1.47       1.47       1.47       1.45   \n",
            "5  government of sing...       1.07       1.24       1.24       1.29   \n",
            "6                   iepf       0.51       0.52       0.50       0.50   \n",
            "\n",
            "   Dec 2021%  \n",
            "0      49.38  \n",
            "1       6.01  \n",
            "2       3.05  \n",
            "3       2.03  \n",
            "4       1.34  \n",
            "5       1.24  \n",
            "6       0.54  \n"
          ]
        }
      ]
    },
    {
      "cell_type": "code",
      "source": [
        ""
      ],
      "metadata": {
        "id": "CuACU6KSKyuZ"
      },
      "execution_count": null,
      "outputs": []
    }
  ]
}